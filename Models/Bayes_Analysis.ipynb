{
 "cells": [
  {
   "cell_type": "code",
   "execution_count": 1,
   "metadata": {},
   "outputs": [],
   "source": [
    "import os\n",
    "tweet_filename = os.path.join(os.path.expanduser(\"~\"), \"Desktop\", \"Data Mining - Python\",\n",
    "                              \"Learning-Data-Mining-with-Python-master\", \"Chapter 6\", \"replicable_python_tweets.json\")\n",
    "labels_filename = os.path.join(os.path.expanduser(\"~\"), \"Desktop\", \"Data Mining - Python\",\n",
    "                              \"Learning-Data-Mining-with-Python-master\", \"Chapter 6\", \"replicable_python_classes.json\")"
   ]
  },
  {
   "cell_type": "code",
   "execution_count": 2,
   "metadata": {},
   "outputs": [
    {
     "name": "stdout",
     "output_type": "stream",
     "text": [
      "Loaded 120 tweets\n"
     ]
    }
   ],
   "source": [
    "import json\n",
    "tweets = []\n",
    "with open(tweet_filename) as inf:\n",
    "    for line in inf:\n",
    "        if len(line.strip()) == 0:\n",
    "            continue\n",
    "        tweets.append(json.loads(line)['text'])\n",
    "print(\"Loaded {} tweets\".format(len(tweets)))"
   ]
  },
  {
   "cell_type": "code",
   "execution_count": 3,
   "metadata": {},
   "outputs": [
    {
     "data": {
      "text/plain": [
       "['Is @common_squirrel just an awesome Python script somewhere?',\n",
       " 'RT @Python_Agent: Top 30 python projects in github http://t.co/VX95Q9bEeh #python',\n",
       " 'Forget Attack on Titan, Monty Python http://t.co/whc5NpQxUK',\n",
       " 'Why did the python do national service? He was coiled up!',\n",
       " '#python tap.py 1.2: Tools for working with the Test Anything Protocol (TAP) http://t.co/HKpt9Cfud9',\n",
       " '今日のウチのPythonさん不機嫌だよ！',\n",
       " '#Nuitka is a compiler for #python http://t.co/2BlncADiTt',\n",
       " 'ブラッドパイソンかわいいわぁ。マジかわいいわぁ。マジホント俺のタ・イ・プ（はあと）',\n",
       " 'I could have done with this two weeks ago. http://t.co/dkMmuUQbdl The outcome of my own battle is summarised at https://t.co/I02979AyTS',\n",
       " 'Really getting the hang of all this. So many moving parts but all fit together nicely. #python #flask #nginx #gunicorn #supervisor #AWS']"
      ]
     },
     "execution_count": 3,
     "metadata": {},
     "output_type": "execute_result"
    }
   ],
   "source": [
    "tweets[:10]"
   ]
  },
  {
   "cell_type": "code",
   "execution_count": 4,
   "metadata": {},
   "outputs": [
    {
     "name": "stdout",
     "output_type": "stream",
     "text": [
      "Loaded 120 labels\n"
     ]
    }
   ],
   "source": [
    "with open(labels_filename) as inf:\n",
    "    labels = json.load(inf)\n",
    "print(\"Loaded {} labels\".format(len(labels)))"
   ]
  },
  {
   "cell_type": "code",
   "execution_count": 5,
   "metadata": {},
   "outputs": [],
   "source": [
    "from sklearn.base import TransformerMixin\n",
    "import nltk\n",
    "from nltk import word_tokenize\n",
    "\n",
    "class NLTKBOW(TransformerMixin):\n",
    "    def fit(self, X, y=None):\n",
    "        return self\n",
    "    def transform(self, X):\n",
    "        return [{word: True for word in word_tokenize(document)} for document in X]\n",
    "    "
   ]
  },
  {
   "cell_type": "code",
   "execution_count": 6,
   "metadata": {},
   "outputs": [],
   "source": [
    "from sklearn.feature_extraction import DictVectorizer\n",
    "from sklearn.naive_bayes import BernoulliNB\n",
    "from sklearn.pipeline import Pipeline\n",
    "\n",
    "pipeline = Pipeline([('bag of words', NLTKBOW()), ('vectorizer', DictVectorizer()), ('naive-bayes', BernoulliNB())])"
   ]
  },
  {
   "cell_type": "code",
   "execution_count": 7,
   "metadata": {},
   "outputs": [
    {
     "name": "stderr",
     "output_type": "stream",
     "text": [
      "/usr/local/lib/python3.7/site-packages/sklearn/cross_validation.py:41: DeprecationWarning: This module was deprecated in version 0.18 in favor of the model_selection module into which all the refactored classes and functions are moved. Also note that the interface of the new CV iterators are different from that of this module. This module will be removed in 0.20.\n",
      "  \"This module will be removed in 0.20.\", DeprecationWarning)\n"
     ]
    }
   ],
   "source": [
    "from sklearn.cross_validation import cross_val_score\n",
    "scores = cross_val_score(pipeline, tweets, labels, scoring = 'f1')"
   ]
  },
  {
   "cell_type": "code",
   "execution_count": 8,
   "metadata": {},
   "outputs": [
    {
     "data": {
      "text/plain": [
       "array([0.84210526, 0.86486486, 0.87804878])"
      ]
     },
     "execution_count": 8,
     "metadata": {},
     "output_type": "execute_result"
    }
   ],
   "source": [
    "scores"
   ]
  },
  {
   "cell_type": "code",
   "execution_count": 9,
   "metadata": {},
   "outputs": [
    {
     "name": "stdout",
     "output_type": "stream",
     "text": [
      "[{'Is': True, '@': True, 'common_squirrel': True, 'just': True, 'an': True, 'awesome': True, 'Python': True, 'script': True, 'somewhere': True, '?': True}, {'RT': True, '@': True, 'Python_Agent': True, ':': True, 'Top': True, '30': True, 'python': True, 'projects': True, 'in': True, 'github': True, 'http': True, '//t.co/VX95Q9bEeh': True, '#': True}, {'Forget': True, 'Attack': True, 'on': True, 'Titan': True, ',': True, 'Monty': True, 'Python': True, 'http': True, ':': True, '//t.co/whc5NpQxUK': True}, {'Why': True, 'did': True, 'the': True, 'python': True, 'do': True, 'national': True, 'service': True, '?': True, 'He': True, 'was': True, 'coiled': True, 'up': True, '!': True}, {'#': True, 'python': True, 'tap.py': True, '1.2': True, ':': True, 'Tools': True, 'for': True, 'working': True, 'with': True, 'the': True, 'Test': True, 'Anything': True, 'Protocol': True, '(': True, 'TAP': True, ')': True, 'http': True, '//t.co/HKpt9Cfud9': True}, {'今日のウチのPythonさん不機嫌だよ！': True}, {'#': True, 'Nuitka': True, 'is': True, 'a': True, 'compiler': True, 'for': True, 'python': True, 'http': True, ':': True, '//t.co/2BlncADiTt': True}, {'ブラッドパイソンかわいいわぁ。マジかわいいわぁ。マジホント俺のタ・イ・プ（はあと）': True}, {'I': True, 'could': True, 'have': True, 'done': True, 'with': True, 'this': True, 'two': True, 'weeks': True, 'ago': True, '.': True, 'http': True, ':': True, '//t.co/dkMmuUQbdl': True, 'The': True, 'outcome': True, 'of': True, 'my': True, 'own': True, 'battle': True, 'is': True, 'summarised': True, 'at': True, 'https': True, '//t.co/I02979AyTS': True}, {'Really': True, 'getting': True, 'the': True, 'hang': True, 'of': True, 'all': True, 'this': True, '.': True, 'So': True, 'many': True, 'moving': True, 'parts': True, 'but': True, 'fit': True, 'together': True, 'nicely': True, '#': True, 'python': True, 'flask': True, 'nginx': True, 'gunicorn': True, 'supervisor': True, 'AWS': True}, {'Top': True, '30': True, 'python': True, 'projects': True, 'in': True, 'github': True, '-': True, 'http': True, ':': True, '//t.co/5bhH1j5hY3': True}, {'@': True, 'FindShotFirst': True, 'Monty': True, 'Python': True, 'and': True, 'the': True, 'holy': True, 'Grail': True}, {'RT': True, '@': True, 'MessiQuote': True, ':': True, '.': True, 'RayHudson': True, '[': True, 'on': True, 'his': True, '258th': True, 'LaLiga': True, 'goal': True, ']': True, '“': True, 'Wrigglier': True, 'than': True, 'a': True, 'python': True, 'and': True, 'just': True, 'as': True, 'deadly': True, 'here': True, 'with': True, 'this': True, 'control': True, 'that': True, 'is': True, 'absolut…': True}, {'Shocking': True, 'Video': True, ':': True, 'Watch': True, 'This': True, 'Lady': True, 'Get': True, 'Swallowed': True, 'By': True, 'A': True, 'Python': True, 'Before': True, 'Taking': True, 'Bath': True, '&': True, 'gt': True, ';': True, 'http': True, '//t.co/vCS8cN60aN': True}, {'☆★☆': True, 'JOB': True, 'ALERT': True, '#': True, 'ITJob': True, 'Job': True, 'Middletown': True, '-': True, 'Sr': True, 'Embedded': True, 'Linux': True, 'Engineer': True, '(': True, 'C': True, ',': True, 'C++': True, 'Perl': True, 'Python': True, '…': True, 'http': True, ':': True, '//t.co/Wk3zlAY7Tj': True, '☜': True, 'view': True, 'full': True, 'details': True}, {'@': True, 'FindShotFirst': True, 'monty': True, 'python': True, 'and': True, 'the': True, 'holy': True, 'grail': True}, {'RT': True, '@': True, 'smitaprakash': True, ':': True, '#': True, 'Delhi': True, 'suburb': True, 'saurabh3vedi': True, 'A': True, 'python': True, 'was': True, 'found': True, 'on': True, 'Yamuna': True, 'river': True, 'bed': True, 'near': True, 'DND': True, 'toll': True, 'plaza': True, '.': True, 'It': True, 'has': True, 'eaten': True, 'a': True, 'lamb': True, 'http': True, '//t.c…': True}, {'#': True, 'avalanche': True, 'fatalities': True, '1998-2014': True, 'made': True, 'using': True, 'python': True, 'and': True, 'ggplot2': True, 'with': True, 'data': True, 'from': True, 'http': True, ':': True, '//t.co/ug8HafBqTj': True, 'ski': True, 'skiing': True, '//t.co/HQZq9ei0Wx': True}, {'24.6': True, '10.2': True, 'http': True, ':': True, '//t.co/yBx7XGqTla': True, 'flask-boilerplate-buildutils': True, 'added': True, 'to': True, 'PyPI': True}, {'We': True, 'compared': True, '#': True, 'python': True, 'vs': True, 'elisp': True, '-': True, 'see': True, 'results': True, ':': True, 'http': True, '//t.co/IF5vCgDmfT': True}, {'Shocking': True, 'Video': True, ':': True, 'Watch': True, 'This': True, 'Lady': True, 'Get': True, 'Swallowed': True, 'By': True, 'A': True, 'Python': True, 'Before': True, 'Taking': True, 'Bath': True, '&': True, 'gt': True, ';': True, 'http': True, '//t.co/5sRpvpzDLU': True}, {'☆★☆': True, 'JOB': True, 'ALERT': True, '#': True, 'ITJob': True, 'Job': True, 'San': True, 'Diego': True, '-': True, 'Sr': True, 'Software': True, 'Engineer': True, '(': True, 'C++': True, 'or': True, 'Python': True, ')': True, 'http': True, ':': True, '//t.co/Q7sNOHHU5m': True, '☜': True, 'view': True, 'full': True, 'details': True}, {'ぱいそん描いてくれた人たち、ありがとうな': True, '(': True, 'ドヤァ': True, '俺は嬉し過ぎて身体が激しく伸び縮みしそうだよぉ': True}, {'RT': True, '@': True, 'mjasay': True, ':': True, '``': True, 'A': True, 'lot': True, 'of': True, 'innovative': True, 'data': True, 'scientists': True, 'favor': True, 'open': True, 'source': True, 'components': True, '(': True, 'esp': True, 'Python': True, '&': True, 'amp': True, ';': True, 'R': True, ')': True, 'in': True, 'their': True, 'advanced': True, 'analytics': True, 'stack': True, \"''\": True, 'http': True, '//t.…': True}, {'RT': True, '@': True, 'SysgenRecruit': True, ':': True, 'Python': True, 'Developer': True, 'We': True, '’': True, 're': True, 'looking': True, 'for': True, 'an': True, 'experienced': True, 'developer': True, 'with…': True, 'http': True, '//t.co/fvlZZr0QEA': True, '#': True, 'jobs': True, 'philippines': True}, {'RT': True, '@': True, 'BrookeKotrla': True, ':': True, 'THEY': True, 'JUST': True, 'BROUGHT': True, 'OUT': True, 'A': True, 'PYTHON🐍': True, 'OMMMGG': True}, {'RT': True, '@': True, 'hopkinsonf1': True, ':': True, 'kennethlove': True, 'Count': True, 'me': True, 'in': True, ',': True, 'Kenneth': True, '!': True, 'I': True, 'learned': True, 'Python': True, 'with': True, 'your': True, 'videos': True, ';': True, 'just': True, 'been': True, 'offered': True, 'a': True, 'job': True, 'major': True, 'software': True, 'develo…': True}, {'¿Por': True, 'qué': True, 'un': True, 'analista': True, 'web': True, 'debería': True, 'saber': True, 'Python': True, '?': True, 'http': True, ':': True, '//t.co/7Vwgiv3R3d': True}, {'@': True, 'a_python_': True, 'ええーーーー！！！！': True}, {'#': True, 'python': True, 'zope.dublincore': True, '4.0.1': True, ':': True, 'Zope': True, 'Dublin': True, 'Core': True, 'implementation': True, 'http': True, '//t.co/70DBPmYvz5': True}, {'HEY': True, 'GIRL': True, 'LET': True, 'A': True, 'PYTHON': True, 'SLIDE': True, 'ON': True}, {'via': True, '@': True, 'SysgenRecruit': True, 'Python': True, 'Developer': True, ':': True, 'We': True, '’': True, 're': True, 'looking': True, 'for': True, 'an': True, 'experienced': True, 'developer': True, 'with…': True, 'http': True, '//t.co/S0y0F2AehX': True, '#': True, 'jobs': True, 'philippines': True}, {'New': True, '#': True, 'jobs': True, 'listings': True, 'for': True, 'python': True, 'developers': True, 'USA+UK': True, 'http': True, ':': True, '//t.co/XN8C5QzXub': True, 'coder': True}, {'using': True, '__deepcopy__': True, 'on': True, '#': True, 'custom': True, 'object': True, 'in': True, 'python': True, '?': True, ':': True, 'I': True, 'am': True, 'a': True, 'writing': True, 'Queue': True, 'class': True, 'that…': True, 'http': True, '//t.co/M7pEN1HoyQ': True}, {'Top': True, '30': True, 'python': True, 'projects': True, 'in': True, 'github': True, 'http': True, ':': True, '//t.co/VX95Q9bEeh': True, '#': True}, {'Shocking': True, 'Video': True, ':': True, 'Watch': True, 'This': True, 'Lady': True, 'Get': True, 'Swallowed': True, 'By': True, 'A': True, 'Python': True, 'Before': True, 'Taking': True, 'Bath': True, '&': True, 'gt': True, ';': True, 'http': True, '//t.co/5La01AAhTR': True, '//t.co/6nqv4pGnzp': True}, {'#': True, 'python': True, 'flask-boilerplate-buildutils': True, '0.1.0': True, ':': True, 'Built': True, 'utils': True, 'for': True, 'the': True, 'flask-boilerplate/flask-boilerplate-utils': True, 'http': True, '//t.co/NCSLT8L8SR': True}, {'Job': True, 'Opening': True, ':': True, 'Python': True, 'Developer': True, 'We': True, '’': True, 're': True, 'looking': True, 'for': True, 'an': True, 'experienced': True, 'developer…': True, 'http': True, '//t.co/EBDH1270q7': True, '#': True, 'jobs': True, 'philippines': True, '@': True, 'SysgenRecruit': True}, {'#': True, 'python': True, 'django-dash': True, '0.4.11': True, ':': True, 'Customisable': True, ',': True, 'modular': True, 'dashboard': True, 'application': True, 'framework': True, 'for': True, 'Django': True, '.': True, 'http': True, '//t.co/bIhfiAPvAW': True}, {'Creating': True, 'your': True, 'First': True, 'App': True, 'on': True, 'Linux': True, 'with': True, 'Python': True, 'and': True, 'Flask': True, 'http': True, ':': True, '//t.co/L5SVvmtMJE': True, '#': True, 'webdev': True, 'linux': True, 'python': True}, {'☆★☆': True, 'JOB': True, 'ALERT': True, '#': True, 'ITJob': True, 'Job': True, 'Newark': True, '-': True, 'Java': True, '/': True, 'Python': True, 'Developer': True, 'http': True, ':': True, '//t.co/RxmUnOttIi': True, '☜': True, 'view': True, 'full': True, 'details': True}, {'#': True, 'python': True, 'SimpleStruct': True, '0.2.1': True, ':': True, 'A': True, 'library': True, 'for': True, 'defining': True, 'struct-like': True, 'classes': True, 'http': True, '//t.co/MmbXX1Cc8R': True}, {'First': True, 'day': True, 'after': True, 'the': True, 'end': True, 'of': True, 'my': True, 'courses': True, 'this': True, 'term': True, 'and': True, 'I': True, \"'m\": True, 'coding': True, 'at': True, '4PM': True, 'to': True, 'get': True, 'damn': True, '#': True, 'python': True, 'erp': True, 'stuff': True, 'working': True, '.': True}, {'#': True, 'python': True, 'zope.sendmail': True, '4.0.0': True, ':': True, 'Zope': True, 'sendmail': True, 'http': True, '//t.co/yJxRd2sNzg': True}, {'Top': True, 'hourly': True, \"'python\": True, \"'\": True, 'htags': True, '[': True, '#': True, 'python': True, ',': True, 'job': True, 'itjob': True, 'jobs': True, 'php': True, ']': True, '245': True, 'tweets': True, 'http': True, ':': True, '//t.co/PDb9RsiTWX': True, '//t.co/sfrmhZwJJ7': True}, {'``': True, 'Data': True, 'Visualization': True, 'App': True, 'Using': True, 'GAE': True, 'Python': True, ',': True, 'D3.js': True, 'and': True, 'Google': True, 'BigQuery': True, \"''\": True, 'http': True, ':': True, '//t.co/g5SZ6AaTdD': True, '#': True, 'DataVisualization': True, 'programming': True, 'apps': True, 'python': True}, {'Honestly': True, ',': True, 'my': True, 'dream': True, 'pet': True, 'is': True, 'a': True, 'blood': True, 'python': True, '.': True, 'Those': True, 'snakes': True, 'are': True, 'gorgeous': True, '😍😍': True}, {'「': True, 'Python': True, '3': True, 'は西暦': True, '3000': True, '年にリリースされる予定」という冗談から始まったため、呪いのように移行できなくなっている。': True}, {'#': True, 'python': True, 'maketools': True, '0.1.0': True, ':': True, 'Add': True, 'build': True, 'prerequisites': True, 'to': True, 'your': True, 'project': True, '.': True, 'http': True, '//t.co/soQWHAUV1t': True}, {'@': True, 'tyler_fairfield': True, 'needs': True, 'a': True, 'bigger': True, 'jock': True, 'to': True, 'keep': True, 'that': True, 'python': True, 'in': True}, {'RT': True, '@': True, 'BrookeKotrla': True, ':': True, 'THEY': True, 'JUST': True, 'BROUGHT': True, 'OUT': True, 'A': True, 'PYTHON🐍': True, 'OMMMGG': True}, {'@': True, 'kohei_python': True, 'そうこれが守り神の。。。': True}, {'@': True, 'parenthetical_e': True, 'johnmyleswhite': True, 'Likewise': True, ',': True, 'though': True, 'another': True, 'big': True, 'factor': True, 'for': True, 'scientists': True, 'is': True, 'how': True, 'many': True, 'python': True, 'suites': True, 'are': True, \"n't\": True, 'configured': True, 'Python3': True, '.': True}, {'RT': True, '@': True, 'Python_Agent': True, ':': True, 'Top': True, '30': True, 'python': True, 'projects': True, 'in': True, 'github': True, 'http': True, '//t.co/VX95Q9bEeh': True, '#': True}, {'RT': True, '@': True, 'MessiQuote': True, ':': True, '.': True, 'RayHudson': True, '[': True, 'on': True, 'his': True, '258th': True, 'LaLiga': True, 'goal': True, ']': True, '“': True, 'Wrigglier': True, 'than': True, 'a': True, 'python': True, 'and': True, 'just': True, 'as': True, 'deadly': True, 'here': True, 'with': True, 'this': True, 'control': True, 'that': True, 'is': True, 'absolut…': True}, {'zope.dublincore': True, '-': True, 'Zope': True, 'Dublin': True, 'Core': True, 'implementation': True, 'pypi': True, ':': True, 'http': True, '//t.co/fUuVnjlvGO': True, 'www': True, '//t.co/Ess3g1RGgT': True, '#': True, 'python': True}, {'ありがとうございます。': True}, {'@': True, 'Bergg69': True, 'Canada': True, 'yep': True, '.': True, 'Like': True, 'Monty': True, 'Python': True, \"'Dennis\": True, 'Moore': True, \"'\": True, 'sketch': True, 'Rob': True, 'the': True, 'poor': True, 'to': True, 'give': True, 'rich': True}, {'@': True, 'kobudashiOdashi': True, 'あっっっっっっっっっっ！！！！！！！！': True}, {'@': True, 'python_octopus': True, 'おつかれさまです！！': True}, {'#': True, 'python': True, 'pyupp': True, '0.1': True, ':': True, 'Read': True, 'and': True, 'write': True, 'unity': True, 'player': True, 'preferences': True, 'data': True, '.': True, 'http': True, '//t.co/SF7gUilR8x': True}, {'#': True, 'Freelancer': True, 'seo': True, 'Python': True, 'Restless': True, 'Example': True, 'by': True, 'homejinni': True, 'http': True, ':': True, '//t.co/RmZQVvMlz2': True, '@': True, 'CashBoards': True}, {'Python': True, '!': True, 'http': True, ':': True, '//t.co/JjdDGlGba1': True}, {'24.6': True, '10.2': True, 'http': True, ':': True, '//t.co/hYAym4DQUR': True, 'pyupp': True, 'added': True, 'to': True, 'PyPI': True}, {'#': True, 'Freelancer': True, 'seo': True, 'Python': True, 'Crawler/Indexer/Spider/Bot': True, 'by': True, 'meetire': True, 'http': True, ':': True, '//t.co/GWf3vHkZ30': True, '@': True, 'CashBoards': True}, {'Four': True, 'Beautiful': True, 'Python': True, ',': True, 'R': True, 'MATLAB': True, 'and': True, 'Mathematica': True, 'plots': True, 'with': True, 'LaTeX': True, 'http': True, ':': True, '//t.co/8krYerBJfB': True, 'via': True, '@': True, 'rbloggers': True}, {'“': True, 'http': True, ':': True, '//t.co/oAqSNLIRXP：': True, 'Python言語によるプログラミングイントロダクション': True, '世界標準MIT教科書': True, '久保': True, '幹雄': True, ',': True, 'John': True, 'V.': True, 'Guttag': True, '麻生': True, '敏正': True, '木村': True, '泰紀': True, '小林': True, '和博': True, '関口': True, '良行…': True, '”': True, '//t.co/qAmAQ0skir': True}, {'python-rpy2': True, '2.5.4-1': True, 'i686': True, 'http': True, ':': True, '//t.co/TnMRb22DI2': True, '#': True, 'Archlinux': True}, {'@': True, '0243Kyon': True, '泣けよ': True, '(': True, 'ゲス顔': True, ')': True}, {'#': True, 'python': True, 'musa': True, '3.3.13': True, ':': True, 'Module': True, 'for': True, 'music': True, 'tagging': True, 'and': True, 'library': True, 'management': True, 'http': True, '//t.co/Wg2qcbMeCS': True}, {'#': True, 'Freelancer': True, 'Python': True, 'Crawler/Indexer/Spider/Bot': True, 'by': True, 'meetire': True, 'http': True, ':': True, '//t.co/CbzQTdVXdi': True, 'computer': True, 'via': True, '@': True, 'BlueWaterMarket': True}, {'RT': True, '@': True, 'NYDailyNews': True, ':': True, 'A': True, '15-foot': True, 'Burmese': True, 'python': True, 'was': True, 'found': True, 'at': True, 'a': True, 'Florida': True, 'real': True, 'estate': True, 'office': True, '.': True, 'http': True, '//t.co/ry0yXBZ6Ek': True, '//t.co/1CQVQuZVjj': True}, {'#': True, 'python': True, 'printNest21': True, '1.4.0': True, ':': True, 'A': True, 'simple': True, 'printer': True, 'of': True, 'nested': True, 'lists': True, 'http': True, '//t.co/1OPTOogruI': True}, {'Create': True, 'a': True, 'Freelancer/Elance': True, 'type': True, 'site': True, 'by': True, 'seekdesign': True, 'http': True, ':': True, '//t.co/1haUCxuI2g': True}, {'RT': True, '@': True, 'NYDailyNews': True, ':': True, 'A': True, '15-foot': True, 'Burmese': True, 'python': True, 'was': True, 'found': True, 'at': True, 'a': True, 'Florida': True, 'real': True, 'estate': True, 'office': True, '.': True, 'http': True, '//t.co/ry0yXBZ6Ek': True, '//t.co/1CQVQuZVjj': True}, {'RT': True, '@': True, 'ElBaulDeKubrick': True, ':': True, 'Still': True, 'Flying': True, ',': True, 'un': True, 'tributo': True, 'a': True, 'los': True, 'Monty': True, 'Python': True, 'http': True, '//t.co/PYb9h5Gssk': True, '¿Alguien': True, 'ha': True, 'olvidado': True, '?': True, '//t.co/TooNHtSiMm': True}, {'えへへ': True, '合同誌原稿終わった': True}, {'@': True, 'Escalator_Rider': True, '『おつありさまっす』': True}, {'RT': True, '@': True, 'mura_cin': True, ':': True, 'Pythonで変数名をつけるときには予約語だけでなく組み込み関数との衝突も気を付けましょう': True, 'on': True, 'Qiita': True, 'http': True, '//t.co/1n5c7ut7Dl': True}, {'@': True, 'halulan': True, '蟻です！！': True}, {'#': True, 'python': True, 'floraconcierge-client': True, '0.6.7': True, ':': True, 'FloraExpress': True, 'API': True, 'client': True, 'library': True, '.': True, 'http': True, '//t.co/0TfRRqsOR8': True, '//t.co/Ew6FJoY9Hx': True}, {'@': True, 'mechashiorina': True, 'おつありでございます！！': True}, {'Dealing': True, 'with': True, 'list.index': True, '(': True, 'x': True, ')': True, 'error': True, 'in': True, 'Python': True, '3': True, 'http': True, ':': True, '//t.co/0jp5moJqwh': True, '//t.co/Ntbf0XWdt2': True, '#': True, 'via': True, '@': True, 'dv_geek': True}, {'@': True, 'Michael_Louis_': True, 'Python': True, 'Accessories': True, 'Available': True, 'Now': True, 'At': True, '-…': True, 'http': True, ':': True, '//t.co/tvgQugZZT5': True}, {'C++': True, 'で書かれたサンプルコードを、C': True, '#': True, 'と、それから': True, 'F': True, 'と': True, 'Python': True, '(': True, 'IronPython': True, ')': True, 'で書き直してみますかな。': True}, {'“': True, 'Pythonディープラーニングライブラリのツートップ「Pylearn2」「Caffe」とは～PyData': True, 'Tokyo': True, 'Meetup': True, '#': True, '1イベントレポート': True, '（1/3）：CodeZine': True, '”': True, 'http': True, ':': True, '//t.co/M5qsyZZTnD': True}, {'締切まで5時間半。いつもぎりぎりですなぁ。': True}, {'@': True, '0243Kyon': True, 'http': True, ':': True, '//t.co/mSyeNVcahe': True}, {'RT': True, '@': True, 'Python_Quest': True, ':': True, 'Dealing': True, 'with': True, 'list.index': True, '(': True, 'x': True, ')': True, 'error': True, 'in': True, 'Python': True, '3': True, 'http': True, '//t.co/0jp5moJqwh': True, '//t.co/Ntbf0XWdt2': True, '#': True, 'via': True, 'dv_geek': True}, {'#': True, 'Freelancer': True, 'Python': True, 'Restless': True, 'Example': True, 'by': True, 'homejinni': True, 'http': True, ':': True, '//t.co/QRDLJxlsIM': True, 'computer': True, 'via': True, '@': True, 'BlueWaterMarket': True}, {'RT': True, '@': True, 'pythontrending': True, ':': True, 'Bedfellows': True, '-': True, 'Command-line': True, 'tool': True, 'for': True, 'exploring': True, 'the': True, 'PAC': True, 'donor-recipient': True, 'relationship': True, 'http': True, '//t.co/gZ5gFWEVTb': True, '#': True, 'python': True}, {'@': True, 'shiftkey': True, 'a': True, 'python': True, 'install': True, 'for': True, 'you': True, '!': True, 'And': True, '.': True, 'Everyone': True, 'gets': True}, {'@': True, 'python_octopus': True, 'おつかれさまです！': True}, {'@': True, 'kazunaduck': True, 'おつありですうぇひひひひ！！': True}, {'RT': True, '@': True, 'pythontrending': True, ':': True, 'eatiht': True, '-': True, 'A': True, 'tool': True, 'for': True, 'extracting': True, 'article': True, 'text': True, 'in': True, 'html': True, 'documents': True, '.': True, 'http': True, '//t.co/Wu2jxwHpWE': True, '#': True, 'python': True}, {'How': True, 'do': True, 'I': True, 'convert': True, 'this': True, 'piece': True, 'of': True, 'code': True, 'written': True, 'in': True, 'Python': True, '3.4': True, 'into': True, '2.7': True, '(': True, 'gives': True, 'error': True, 'with': True, 'end': True, ')': True, '?': True, 'http': True, ':': True, '//t.co/Yn5WvjVHZD': True, '#': True, 'Question': True}, {'Monty': True, 'Python': True, '-': True, 'Always': True, 'Look': True, 'on': True, 'the': True, 'Bright': True, 'Side': True, 'of': True, '…': True, ':': True, 'http': True, '//t.co/xYHUiKxp4K': True}, {'Object': True, 'Initialization': True, '--': True, 'Patterns': True, 'And': True, 'Antipatterns': True, '-': True, 'http': True, ':': True, '//t.co/Pi5xu4NMkR': True}, {'How': True, 'to': True, 'protect': True, 'python': True, 'class': True, 'variables': True, 'from': True, 'an': True, 'evil': True, 'programmer': True, '?': True, ':': True, 'can': True, 'I': True, 'my…': True, 'http': True, '//t.co/n0AzC6hWWw': True}, {'@': True, 'mkmnsh_': True, 'おつありでございます！！': True}, {'rt': True, 'Monty': True, 'Python': True, \"'s\": True, 'Silly': True, 'Walk': True, 'to': True, 'PHUKET': True, 'LEARN': True, 'GOOD': True, 'ENGLISH': True, '-': True, 'http': True, ':': True, '//t.co/xH9w7LcUW9': True}, {'I': True, 'really': True, 'want': True, 'to': True, 'thank': True, '@': True, 'drchuck': True, 'and': True, 'coursera': True, 'for': True, 'the': True, 'great': True, '#': True, 'python': True, 'course': True, 'PR4E': True, '.': True, 'A': True, 'good': True, 'starting': True, 'point': True, ',': True, 'now': True, 'looking': True, 'forward': True, 'learn': True, 'more': True}, {'りっ茶店は何時までですか？': True}, {'Four': True, 'Beautiful': True, 'Python': True, ',': True, 'R': True, 'MATLAB': True, 'and': True, 'Mathematica': True, 'plots': True, 'with': True, 'LaTeX': True, 'http': True, ':': True, '//t.co/Dgpmvoocdn': True, '#': True, 'rstats': True}, {'Python': True, '#': True, 'private': True, 'class': True, 'variables': True, 'that': True, 'are': True, \"n't\": True, ':': True, 'When': True, 'trying': True, 'to': True, 'access…': True, 'http': True, '//t.co/4yIhHsIizx': True}, {'@': True, 'python_octopus': True, 'おっっっっっっっっっっっっっっっっっっっっっｔ': True}, {'rt': True, 'Monty': True, 'Python': True, \"'s\": True, 'Silly': True, 'Walk': True, 'to': True, 'PHUKET': True, 'LEARN': True, 'GOOD': True, 'ENGLISH': True, '-': True, 'http': True, ':': True, '//t.co/GiZnKicQMf': True}, {'Första': True, 'klassens': True, '``': True, 'tomte': True, \"''\": True, '#': True, 'moron': True, 'http': True, ':': True, '//t.co/yMt1PZU1Cp': True}, {'Vince': True, 'Camuto': True, 'Women': True, \"'s\": True, 'VC/5022RGBN': True, 'Leather': True, 'Rosegold-Tone': True, 'Date': True, 'Function': True, 'Brown': True, 'Python': True, 'Strap': True, 'Watch': True, 'http': True, ':': True, '//t.co/imePT9i3gx': True}, {'rt': True, 'Monty': True, 'Python': True, \"'s\": True, 'Silly': True, 'Walk': True, 'to': True, 'PHUKET': True, 'LEARN': True, 'GOOD': True, 'ENGLISH': True, '-': True, 'http': True, ':': True, '//t.co/5jDQynuWnl': True}, {'@': True, 'python_octopus': True, '『おつかれさまっす』': True}, {'@': True, 'python_octopus': True, '乙です！！': True}, {'Let': True, 'us': True, 'always': True, 'carry': True, 'with': True, 'into': True, 'each': True, 'generation': True, 'the': True, 'legacy': True, 'of': True, 'Monty': True, 'Python': True, '.': True}, {'python-rpy2': True, '2.5.4-1': True, 'x86_64': True, 'http': True, ':': True, '//t.co/oawb8APara': True, '#': True, 'Archlinux': True}, {'monty': True, 'python': True, 'http': True, ':': True, '//t.co/t6g9nDIlJL': True}, {'Top': True, 'hourly': True, \"'python\": True, \"'\": True, 'htags': True, '[': True, 'bm500..': True, ',': True, '#': True, 'python': True, 'cgyvsvan': True, 'rdsch': True, '3dmu': True, ']': True, '377': True, 'tweets': True, 'http': True, ':': True, '//t.co/l5IY5gFCyK': True, '//t.co/CEOidrDhmv': True}, {'How': True, 'to': True, 'add': True, 'assumptions': True, 'in': True, 'limit': True, 'Sympy': True, '?': True, 'http': True, ':': True, '//t.co/um3d45PzDu': True, '//t.co/t3TXOZrjLV': True, '#': True, 'Python': True, 'via': True, '@': True, 'dv_geek': True}, {'@': True, 'python_octopus': True, 'お疲れさまでした！これで心置きなくですか…？': True}, {'RT': True, '@': True, 'Python_Quest': True, ':': True, 'How': True, 'to': True, 'add': True, 'assumptions': True, 'in': True, 'limit': True, 'Sympy': True, '?': True, 'http': True, '//t.co/um3d45PzDu': True, '//t.co/t3TXOZrjLV': True, '#': True, 'Python': True, 'via': True, 'dv_geek': True}, {'RT': True, '@': True, 'kuroneko1988': True, ':': True, 'ごめんなさい．ごめんなさい．やっつけです/Sinatra風マイクロフレームワークで始めるPython': True, 'http': True, '//t.co/0rCghxCNGh': True, 'SlideShareさんから': True}]\n"
     ]
    }
   ],
   "source": [
    "print([{word: True for word in word_tokenize(document)} for document in tweets])"
   ]
  },
  {
   "cell_type": "code",
   "execution_count": 10,
   "metadata": {},
   "outputs": [],
   "source": [
    "model = pipeline.fit(tweets, labels)"
   ]
  },
  {
   "cell_type": "code",
   "execution_count": 15,
   "metadata": {},
   "outputs": [],
   "source": [
    "nb = model.named_steps['naive-bayes']\n",
    "dv = model.named_steps['vectorizer']"
   ]
  },
  {
   "cell_type": "code",
   "execution_count": 23,
   "metadata": {},
   "outputs": [],
   "source": [
    "import numpy as np\n",
    "top_features = np.argsort(nb.feature_log_prob_[1])[:50]"
   ]
  },
  {
   "cell_type": "code",
   "execution_count": 25,
   "metadata": {},
   "outputs": [
    {
     "name": "stdout",
     "output_type": "stream",
     "text": [
      "0 😍😍\n",
      "1 Let\n",
      "2 Leather\n",
      "3 Lady\n",
      "4 near\n",
      "5 LaLiga\n",
      "6 LET\n",
      "7 Like\n",
      "8 LEARN\n",
      "9 JUST\n",
      "10 It\n",
      "11 object\n",
      "12 IronPython\n",
      "13 office\n",
      "14 olvidado\n",
      "15 needs\n",
      "16 national\n",
      "17 Look\n",
      "18 MessiQuote\n",
      "19 los\n",
      "20 PYTHON🐍\n",
      "21 PYTHON\n",
      "22 PHUKET\n",
      "23 mechashiorina\n",
      "24 OUT\n",
      "25 ON\n",
      "26 OMMMGG\n",
      "27 mkmnsh_\n",
      "28 monty\n",
      "29 NYDailyNews\n",
      "30 Moore\n",
      "31 Monty\n",
      "32 moron\n",
      "33 mura_cin\n",
      "34 Honestly\n",
      "35 He\n",
      "36 HEY\n",
      "37 Grail\n",
      "38 Delhi\n",
      "39 Date\n",
      "40 DND\n",
      "41 Create\n",
      "42 python_octopus\n",
      "43 qué\n",
      "44 Canada\n",
      "45 Camuto\n",
      "46 real\n",
      "47 By\n",
      "48 Burmese\n",
      "49 Brown\n"
     ]
    }
   ],
   "source": [
    "for i, feature_index in enumerate(top_features):\n",
    "    print(i, dv.feature_names_[feature_index])"
   ]
  },
  {
   "cell_type": "code",
   "execution_count": null,
   "metadata": {},
   "outputs": [],
   "source": []
  }
 ],
 "metadata": {
  "kernelspec": {
   "display_name": "Python 3",
   "language": "python",
   "name": "python3"
  },
  "language_info": {
   "codemirror_mode": {
    "name": "ipython",
    "version": 3
   },
   "file_extension": ".py",
   "mimetype": "text/x-python",
   "name": "python",
   "nbconvert_exporter": "python",
   "pygments_lexer": "ipython3",
   "version": "3.7.0"
  }
 },
 "nbformat": 4,
 "nbformat_minor": 2
}
